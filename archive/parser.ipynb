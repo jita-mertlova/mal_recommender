{
 "cells": [
  {
   "cell_type": "markdown",
   "metadata": {},
   "source": [
    "# VWM project: analyse and parse the anime dataset"
   ]
  },
  {
   "cell_type": "code",
   "execution_count": 1,
   "metadata": {
    "ExecuteTime": {
     "end_time": "2020-09-28T21:14:48.137051Z",
     "start_time": "2020-09-28T21:14:47.648561Z"
    }
   },
   "outputs": [],
   "source": [
    "import warnings\n",
    "warnings.filterwarnings('ignore')\n",
    "import pandas as pd\n",
    "import numpy as np\n",
    "import math"
   ]
  },
  {
   "cell_type": "markdown",
   "metadata": {},
   "source": [
    "The dataset was downloaded from this website:\n",
    "https://www.kaggle.com/datasets/marlesson/myanimelist-dataset-animes-profiles-reviews?resource=download"
   ]
  },
  {
   "cell_type": "code",
   "execution_count": 2,
   "metadata": {
    "ExecuteTime": {
     "end_time": "2020-09-28T21:16:23.158616Z",
     "start_time": "2020-09-28T21:16:23.156056Z"
    }
   },
   "outputs": [],
   "source": [
    "df = pd.read_csv(\"animesWorking.csv\")"
   ]
  },
  {
   "cell_type": "code",
   "execution_count": 3,
   "metadata": {
    "ExecuteTime": {
     "end_time": "2020-09-28T21:16:35.815574Z",
     "start_time": "2020-09-28T21:16:35.812948Z"
    }
   },
   "outputs": [
    {
     "name": "stdout",
     "output_type": "stream",
     "text": [
      "<class 'pandas.core.frame.DataFrame'>\n",
      "RangeIndex: 19311 entries, 0 to 19310\n",
      "Data columns (total 12 columns):\n",
      " #   Column      Non-Null Count  Dtype  \n",
      "---  ------      --------------  -----  \n",
      " 0   uid         19311 non-null  int64  \n",
      " 1   title       19311 non-null  object \n",
      " 2   synopsis    18336 non-null  object \n",
      " 3   genre       19311 non-null  object \n",
      " 4   aired       19311 non-null  object \n",
      " 5   episodes    18605 non-null  float64\n",
      " 6   members     19311 non-null  int64  \n",
      " 7   popularity  19311 non-null  int64  \n",
      " 8   ranked      16099 non-null  float64\n",
      " 9   score       18732 non-null  float64\n",
      " 10  img_url     19131 non-null  object \n",
      " 11  link        19311 non-null  object \n",
      "dtypes: float64(3), int64(3), object(6)\n",
      "memory usage: 1.8+ MB\n"
     ]
    }
   ],
   "source": [
    "df.info()\n",
    "#df.head(10)"
   ]
  },
  {
   "cell_type": "code",
   "execution_count": 4,
   "metadata": {},
   "outputs": [
    {
     "name": "stdout",
     "output_type": "stream",
     "text": [
      "Index(['uid', 'title', 'synopsis', 'genre', 'aired', 'episodes', 'members',\n",
      "       'popularity', 'ranked', 'score', 'img_url', 'link'],\n",
      "      dtype='object')\n"
     ]
    }
   ],
   "source": [
    "print(df.columns)"
   ]
  },
  {
   "cell_type": "code",
   "execution_count": 5,
   "metadata": {
    "ExecuteTime": {
     "end_time": "2020-09-28T21:16:58.958590Z",
     "start_time": "2020-09-28T21:16:58.956118Z"
    }
   },
   "outputs": [
    {
     "name": "stdout",
     "output_type": "stream",
     "text": [
      "0        ['Comedy', 'Sports', 'Drama', 'School', 'Shoun...\n",
      "1        ['Drama', 'Music', 'Romance', 'School', 'Shoun...\n",
      "2        ['Sci-Fi', 'Adventure', 'Mystery', 'Drama', 'F...\n",
      "3        ['Action', 'Military', 'Adventure', 'Comedy', ...\n",
      "4         ['Action', 'Mystery', 'Supernatural', 'Vampire']\n",
      "                               ...                        \n",
      "19306           ['Sci-Fi', 'Adventure', 'Comedy', 'Magic']\n",
      "19307    ['Adventure', 'Fantasy', 'Magic', 'Martial Art...\n",
      "19308                ['Mystery', 'Horror', 'Supernatural']\n",
      "19309    ['Action', 'Adventure', 'Comedy', 'Historical'...\n",
      "19310    ['Military', 'Sci-Fi', 'Space', 'Drama', 'Mecha']\n",
      "Name: genre, Length: 19311, dtype: object\n"
     ]
    }
   ],
   "source": [
    "genre_column = df.genre\n",
    "print(genre_column)"
   ]
  },
  {
   "cell_type": "code",
   "execution_count": 6,
   "metadata": {},
   "outputs": [
    {
     "name": "stdout",
     "output_type": "stream",
     "text": [
      "dataset contains following tags:\n",
      "['Action', 'Adventure', 'Cars', 'Comedy', 'Dementia', 'Demons', 'Drama', 'Ecchi', 'Fantasy', 'Game', 'Harem', 'Hentai', 'Historical', 'Horror', 'Josei', 'Kids', 'Magic', 'Martial Arts', 'Mecha', 'Military', 'Music', 'Mystery', 'Parody', 'Police', 'Psychological', 'Romance', 'Samurai', 'School', 'Sci-Fi', 'Seinen', 'Shoujo', 'Shoujo Ai', 'Shounen', 'Shounen Ai', 'Slice of Life', 'Space', 'Sports', 'Super Power', 'Supernatural', 'Thriller', 'Vampire', 'Yaoi', 'Yuri']\n",
      "# of distinct tags:  43\n"
     ]
    }
   ],
   "source": [
    "tags = set()\n",
    "for item in genre_column:\n",
    "    res = set(eval(item))\n",
    "    tags.update(res)\n",
    "tags = list(tags)\n",
    "tags.sort()\n",
    "print(\"dataset contains following tags:\")\n",
    "print(tags)\n",
    "print(\"# of distinct tags: \", len(tags))"
   ]
  },
  {
   "cell_type": "code",
   "execution_count": 7,
   "metadata": {},
   "outputs": [
    {
     "name": "stdout",
     "output_type": "stream",
     "text": [
      "Index(['Title', 'Action', 'Adventure', 'Cars', 'Comedy', 'Dementia', 'Demons',\n",
      "       'Drama', 'Ecchi', 'Fantasy', 'Game', 'Harem', 'Hentai', 'Historical',\n",
      "       'Horror', 'Josei', 'Kids', 'Magic', 'Martial Arts', 'Mecha', 'Military',\n",
      "       'Music', 'Mystery', 'Parody', 'Police', 'Psychological', 'Romance',\n",
      "       'Samurai', 'School', 'Sci-Fi', 'Seinen', 'Shoujo', 'Shoujo Ai',\n",
      "       'Shounen', 'Shounen Ai', 'Slice of Life', 'Space', 'Sports',\n",
      "       'Super Power', 'Supernatural', 'Thriller', 'Vampire', 'Yaoi', 'Yuri'],\n",
      "      dtype='object')\n",
      "0/1 df created\n"
     ]
    }
   ],
   "source": [
    "output = pd.DataFrame(index=range(df.shape[0]),columns=range(44))\n",
    "output.columns = ['Title'] + tags\n",
    "print(output.columns)\n",
    "for index, row in df.iterrows():\n",
    "    output.iloc[index][0] = row['title']\n",
    "    row_tags = set(eval(row['genre']))\n",
    "    for t in row_tags:\n",
    "        output.iloc[index][t] = 1\n",
    "output = output.fillna(0)\n",
    "print(\"0/1 df created\")\n",
    "    "
   ]
  },
  {
   "cell_type": "code",
   "execution_count": 8,
   "metadata": {},
   "outputs": [
    {
     "name": "stdout",
     "output_type": "stream",
     "text": [
      "Normalised\n"
     ]
    }
   ],
   "source": [
    "attribute_totals = list()\n",
    "output_normalised = pd.DataFrame(index=range(output.shape[0]),columns=range(output.shape[1]))\n",
    "output_normalised.columns = output.columns\n",
    "for index, row in output.iterrows():\n",
    "    cnt = 0\n",
    "    for i in range(1,44):\n",
    "        cnt += int(row[i])\n",
    "    attribute_totals.append(cnt)\n",
    "#print(len(attribute_totals))\n",
    "#print(attribute_totals)\n",
    "for index, row in output.iterrows():\n",
    "    output_normalised.iloc[index][0] = row[0]\n",
    "    if attribute_totals[index] == 0:\n",
    "        num = 0\n",
    "    else:\n",
    "        num = 1/math.sqrt(attribute_totals[index])\n",
    "    for i in range(1,44):\n",
    "        if row[i] == 0:\n",
    "            output_normalised.iloc[index][i] = 0\n",
    "        else:\n",
    "            output_normalised.iloc[index][i] = num\n",
    "print(\"Normalised\")\n",
    "\n"
   ]
  },
  {
   "cell_type": "code",
   "execution_count": 9,
   "metadata": {},
   "outputs": [],
   "source": [
    "#output_normalised.to_csv('items.csv')\n"
   ]
  },
  {
   "cell_type": "code",
   "execution_count": 10,
   "metadata": {},
   "outputs": [],
   "source": [
    "#check = pd.read_csv(\"items.csv\")\n",
    "#print(check)"
   ]
  },
  {
   "cell_type": "code",
   "execution_count": 11,
   "metadata": {},
   "outputs": [
    {
     "name": "stdout",
     "output_type": "stream",
     "text": [
      "  Title    Action Adventure      Cars    Comedy  Dementia    Demons     Drama  \\\n",
      "0   idf  0.661007   0.78846  2.161953  0.475505  1.663591  1.504049  0.808105   \n",
      "\n",
      "      Ecchi   Fantasy  ... Shounen Ai Slice of Life     Space    Sports  \\\n",
      "0  1.380009  0.745976  ...   2.232726      0.972782  1.534526  1.376784   \n",
      "\n",
      "  Super Power Supernatural  Thriller   Vampire     Yaoi      Yuri  \n",
      "0    1.430892     1.050529  2.078979  2.068321  2.39371  2.388178  \n",
      "\n",
      "[1 rows x 44 columns]\n",
      "   Unnamed: 0 Title    Action  Adventure      Cars    Comedy  Dementia  \\\n",
      "0           0   idf  0.661007    0.78846  2.161953  0.475505  1.663591   \n",
      "\n",
      "     Demons     Drama     Ecchi  ...  Shounen Ai  Slice of Life     Space  \\\n",
      "0  1.504049  0.808105  1.380009  ...    2.232726       0.972782  1.534526   \n",
      "\n",
      "     Sports  Super Power  Supernatural  Thriller   Vampire     Yaoi      Yuri  \n",
      "0  1.376784     1.430892      1.050529  2.078979  2.068321  2.39371  2.388178  \n",
      "\n",
      "[1 rows x 45 columns]\n"
     ]
    }
   ],
   "source": [
    "nr_items = output.shape[0]\n",
    "idf = pd.DataFrame(index=range(1),columns=range(output.shape[1]))\n",
    "idf.columns = ['Title'] + tags\n",
    "idf['Title'][0] = 'idf'\n",
    "for name in tags:\n",
    "    idf[name][0] = math.log((nr_items/output[name].sum()),10)\n",
    "print(idf)\n",
    "idf.to_csv('idf.csv')\n",
    "check = pd.read_csv(\"idf.csv\")\n",
    "print(check)"
   ]
  },
  {
   "cell_type": "code",
   "execution_count": 12,
   "metadata": {
    "ExecuteTime": {
     "end_time": "2020-09-28T21:18:04.652467Z",
     "start_time": "2020-09-28T21:18:04.642752Z"
    }
   },
   "outputs": [],
   "source": [
    "import matplotlib\n",
    "import matplotlib.pyplot as plt\n",
    "\n",
    "# Matplotlib umožňuje změnit styl na jiný, než defaultní\n",
    "matplotlib.style.use('ggplot')\n",
    "\n",
    "# Bez násl. řádku někdy nefunguje vykreslování grafů v Jupyter noteboocích\n",
    "%matplotlib inline "
   ]
  },
  {
   "cell_type": "markdown",
   "metadata": {},
   "source": [
    "### Graphs and tables for report"
   ]
  },
  {
   "cell_type": "code",
   "execution_count": 22,
   "metadata": {},
   "outputs": [
    {
     "name": "stdout",
     "output_type": "stream",
     "text": [
      "4215\n",
      "['Action', 'Adventure', 'Cars', 'Comedy', 'Dementia', 'Demons', 'Drama', 'Ecchi', 'Fantasy', 'Game', 'Harem', 'Hentai', 'Historical', 'Horror', 'Josei', 'Kids', 'Magic', 'Martial Arts', 'Mecha', 'Military', 'Music', 'Mystery', 'Parody', 'Police', 'Psychological', 'Romance', 'Samurai', 'School', 'Sci-Fi', 'Seinen', 'Shoujo', 'Shoujo Ai', 'Shounen', 'Shounen Ai', 'Slice of Life', 'Space', 'Sports', 'Super Power', 'Supernatural', 'Thriller', 'Vampire', 'Yaoi', 'Yuri']\n",
      "[0. 0. 0. 0. 0. 0. 0. 0. 0. 0. 0. 0. 0. 0. 0. 0. 0. 0. 0. 0. 0. 0. 0. 0.\n",
      " 0. 0. 0. 0. 0. 0. 0. 0. 0. 0. 0. 0. 0. 0. 0. 0. 0. 0. 0.]\n",
      "Action           4215.0\n",
      "Adventure        3143.0\n",
      "Cars              133.0\n",
      "Comedy           6461.0\n",
      "Dementia          419.0\n",
      "Demons            605.0\n",
      "Drama            3004.0\n",
      "Ecchi             805.0\n",
      "Fantasy          3466.0\n",
      "Game              395.0\n",
      "Harem             435.0\n",
      "Hentai           2572.0\n",
      "Historical       1218.0\n",
      "Horror            511.0\n",
      "Josei             115.0\n",
      "Kids             2549.0\n",
      "Magic            1174.0\n",
      "Martial Arts      424.0\n",
      "Mecha            1197.0\n",
      "Military          678.0\n",
      "Music            1993.0\n",
      "Mystery           874.0\n",
      "Parody            702.0\n",
      "Police            301.0\n",
      "Psychological     415.0\n",
      "Romance          2152.0\n",
      "Samurai           238.0\n",
      "School           1910.0\n",
      "Sci-Fi           2832.0\n",
      "Seinen            982.0\n",
      "Shoujo            788.0\n",
      "Shoujo Ai          87.0\n",
      "Shounen          2322.0\n",
      "Shounen Ai        113.0\n",
      "Slice of Life    2056.0\n",
      "Space             564.0\n",
      "Sports            811.0\n",
      "Super Power       716.0\n",
      "Supernatural     1719.0\n",
      "Thriller          161.0\n",
      "Vampire           165.0\n",
      "Yaoi               78.0\n",
      "Yuri               79.0\n",
      "dtype: float64\n"
     ]
    }
   ],
   "source": [
    "print(output['Action'].sum())\n",
    "print (tags)\n",
    "zero = np.zeros(shape=len(tags))\n",
    "print(zero)\n",
    "serie = pd.Series(data=zero, index=tags)\n",
    "for tag in tags:\n",
    "    serie[tag] = output[tag].sum()\n",
    "print(serie)"
   ]
  },
  {
   "cell_type": "code",
   "execution_count": 56,
   "metadata": {},
   "outputs": [
    {
     "data": {
      "image/png": "[encoded data removed]",
      "text/plain": [
       "<Figure size 720x720 with 1 Axes>"
      ]
     },
     "metadata": {
      "needs_background": "light"
     },
     "output_type": "display_data"
    }
   ],
   "source": [
    "serie.plot.bar(color='indigo', figsize=(10,10))\n",
    "#plt.xticks(fontsize=5)\n",
    "#plt.yticks(fontsize=5)\n",
    "plt.savefig(\"figure.png\")"
   ]
  },
  {
   "cell_type": "code",
   "execution_count": null,
   "metadata": {},
   "outputs": [],
   "source": []
  },
  {
   "cell_type": "code",
   "execution_count": null,
   "metadata": {},
   "outputs": [],
   "source": []
  }
 ],
 "metadata": {
  "kernelspec": {
   "display_name": "Python 3 (ipykernel)",
   "language": "python",
   "name": "python3"
  },
  "language_info": {
   "codemirror_mode": {
    "name": "ipython",
    "version": 3
   },
   "file_extension": ".py",
   "mimetype": "text/x-python",
   "name": "python",
   "nbconvert_exporter": "python",
   "pygments_lexer": "ipython3",
   "version": "3.9.12"
  }
 },
 "nbformat": 4,
 "nbformat_minor": 4
}
