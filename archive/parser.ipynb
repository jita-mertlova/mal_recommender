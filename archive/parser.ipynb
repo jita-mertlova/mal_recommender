{
 "cells": [
  {
   "cell_type": "markdown",
   "metadata": {},
   "source": [
    "# VWM project: analyse and parse the anime dataset"
   ]
  },
  {
   "cell_type": "code",
   "execution_count": 1,
   "metadata": {
    "ExecuteTime": {
     "end_time": "2020-09-28T21:14:48.137051Z",
     "start_time": "2020-09-28T21:14:47.648561Z"
    }
   },
   "outputs": [],
   "source": [
    "import warnings\n",
    "warnings.filterwarnings('ignore')\n",
    "import pandas as pd\n",
    "import numpy as np"
   ]
  },
  {
   "cell_type": "code",
   "execution_count": 2,
   "metadata": {
    "ExecuteTime": {
     "end_time": "2020-09-28T21:16:23.158616Z",
     "start_time": "2020-09-28T21:16:23.156056Z"
    }
   },
   "outputs": [],
   "source": [
    "df = pd.read_csv(\"animesWorking.csv\")"
   ]
  },
  {
   "cell_type": "code",
   "execution_count": 3,
   "metadata": {
    "ExecuteTime": {
     "end_time": "2020-09-28T21:16:35.815574Z",
     "start_time": "2020-09-28T21:16:35.812948Z"
    }
   },
   "outputs": [
    {
     "name": "stdout",
     "output_type": "stream",
     "text": [
      "<class 'pandas.core.frame.DataFrame'>\n",
      "RangeIndex: 19311 entries, 0 to 19310\n",
      "Data columns (total 12 columns):\n",
      " #   Column      Non-Null Count  Dtype  \n",
      "---  ------      --------------  -----  \n",
      " 0   uid         19311 non-null  int64  \n",
      " 1   title       19311 non-null  object \n",
      " 2   synopsis    18336 non-null  object \n",
      " 3   genre       19311 non-null  object \n",
      " 4   aired       19311 non-null  object \n",
      " 5   episodes    18605 non-null  float64\n",
      " 6   members     19311 non-null  int64  \n",
      " 7   popularity  19311 non-null  int64  \n",
      " 8   ranked      16099 non-null  float64\n",
      " 9   score       18732 non-null  float64\n",
      " 10  img_url     19131 non-null  object \n",
      " 11  link        19311 non-null  object \n",
      "dtypes: float64(3), int64(3), object(6)\n",
      "memory usage: 1.8+ MB\n"
     ]
    }
   ],
   "source": [
    "df.info()"
   ]
  },
  {
   "cell_type": "code",
   "execution_count": 4,
   "metadata": {
    "ExecuteTime": {
     "end_time": "2020-09-28T21:16:37.810220Z",
     "start_time": "2020-09-28T21:16:37.807970Z"
    }
   },
   "outputs": [
    {
     "data": {
      "text/html": [
       "<div>\n",
       "<style scoped>\n",
       "    .dataframe tbody tr th:only-of-type {\n",
       "        vertical-align: middle;\n",
       "    }\n",
       "\n",
       "    .dataframe tbody tr th {\n",
       "        vertical-align: top;\n",
       "    }\n",
       "\n",
       "    .dataframe thead th {\n",
       "        text-align: right;\n",
       "    }\n",
       "</style>\n",
       "<table border=\"1\" class=\"dataframe\">\n",
       "  <thead>\n",
       "    <tr style=\"text-align: right;\">\n",
       "      <th></th>\n",
       "      <th>uid</th>\n",
       "      <th>title</th>\n",
       "      <th>synopsis</th>\n",
       "      <th>genre</th>\n",
       "      <th>aired</th>\n",
       "      <th>episodes</th>\n",
       "      <th>members</th>\n",
       "      <th>popularity</th>\n",
       "      <th>ranked</th>\n",
       "      <th>score</th>\n",
       "      <th>img_url</th>\n",
       "      <th>link</th>\n",
       "    </tr>\n",
       "  </thead>\n",
       "  <tbody>\n",
       "    <tr>\n",
       "      <th>0</th>\n",
       "      <td>28891</td>\n",
       "      <td>Haikyuu!! Second Season</td>\n",
       "      <td>Following their participation at the Inter-Hig...</td>\n",
       "      <td>['Comedy', 'Sports', 'Drama', 'School', 'Shoun...</td>\n",
       "      <td>Oct 4, 2015 to Mar 27, 2016</td>\n",
       "      <td>25.0</td>\n",
       "      <td>489888</td>\n",
       "      <td>141</td>\n",
       "      <td>25.0</td>\n",
       "      <td>8.82</td>\n",
       "      <td>https://cdn.myanimelist.net/images/anime/9/766...</td>\n",
       "      <td>https://myanimelist.net/anime/28891/Haikyuu_Se...</td>\n",
       "    </tr>\n",
       "    <tr>\n",
       "      <th>1</th>\n",
       "      <td>23273</td>\n",
       "      <td>Shigatsu wa Kimi no Uso</td>\n",
       "      <td>Music accompanies the path of the human metron...</td>\n",
       "      <td>['Drama', 'Music', 'Romance', 'School', 'Shoun...</td>\n",
       "      <td>Oct 10, 2014 to Mar 20, 2015</td>\n",
       "      <td>22.0</td>\n",
       "      <td>995473</td>\n",
       "      <td>28</td>\n",
       "      <td>24.0</td>\n",
       "      <td>8.83</td>\n",
       "      <td>https://cdn.myanimelist.net/images/anime/3/671...</td>\n",
       "      <td>https://myanimelist.net/anime/23273/Shigatsu_w...</td>\n",
       "    </tr>\n",
       "    <tr>\n",
       "      <th>2</th>\n",
       "      <td>34599</td>\n",
       "      <td>Made in Abyss</td>\n",
       "      <td>The Abyss—a gaping chasm stretching down into ...</td>\n",
       "      <td>['Sci-Fi', 'Adventure', 'Mystery', 'Drama', 'F...</td>\n",
       "      <td>Jul 7, 2017 to Sep 29, 2017</td>\n",
       "      <td>13.0</td>\n",
       "      <td>581663</td>\n",
       "      <td>98</td>\n",
       "      <td>23.0</td>\n",
       "      <td>8.83</td>\n",
       "      <td>https://cdn.myanimelist.net/images/anime/6/867...</td>\n",
       "      <td>https://myanimelist.net/anime/34599/Made_in_Abyss</td>\n",
       "    </tr>\n",
       "    <tr>\n",
       "      <th>3</th>\n",
       "      <td>5114</td>\n",
       "      <td>Fullmetal Alchemist: Brotherhood</td>\n",
       "      <td>\"In order for something to be obtained, someth...</td>\n",
       "      <td>['Action', 'Military', 'Adventure', 'Comedy', ...</td>\n",
       "      <td>Apr 5, 2009 to Jul 4, 2010</td>\n",
       "      <td>64.0</td>\n",
       "      <td>1615084</td>\n",
       "      <td>4</td>\n",
       "      <td>1.0</td>\n",
       "      <td>9.23</td>\n",
       "      <td>https://cdn.myanimelist.net/images/anime/1223/...</td>\n",
       "      <td>https://myanimelist.net/anime/5114/Fullmetal_A...</td>\n",
       "    </tr>\n",
       "    <tr>\n",
       "      <th>4</th>\n",
       "      <td>31758</td>\n",
       "      <td>Kizumonogatari III: Reiketsu-hen</td>\n",
       "      <td>After helping revive the legendary vampire Kis...</td>\n",
       "      <td>['Action', 'Mystery', 'Supernatural', 'Vampire']</td>\n",
       "      <td>Jan 6, 2017</td>\n",
       "      <td>1.0</td>\n",
       "      <td>214621</td>\n",
       "      <td>502</td>\n",
       "      <td>22.0</td>\n",
       "      <td>8.83</td>\n",
       "      <td>https://cdn.myanimelist.net/images/anime/3/815...</td>\n",
       "      <td>https://myanimelist.net/anime/31758/Kizumonoga...</td>\n",
       "    </tr>\n",
       "    <tr>\n",
       "      <th>5</th>\n",
       "      <td>37510</td>\n",
       "      <td>Mob Psycho 100 II</td>\n",
       "      <td>Shigeo \"Mob\" Kageyama is now maturing and unde...</td>\n",
       "      <td>['Action', 'Slice of Life', 'Comedy', 'Superna...</td>\n",
       "      <td>Jan 7, 2019 to Apr 1, 2019</td>\n",
       "      <td>13.0</td>\n",
       "      <td>442310</td>\n",
       "      <td>176</td>\n",
       "      <td>21.0</td>\n",
       "      <td>8.89</td>\n",
       "      <td>https://cdn.myanimelist.net/images/anime/1918/...</td>\n",
       "      <td>https://myanimelist.net/anime/37510/Mob_Psycho...</td>\n",
       "    </tr>\n",
       "    <tr>\n",
       "      <th>6</th>\n",
       "      <td>199</td>\n",
       "      <td>Sen to Chihiro no Kamikakushi</td>\n",
       "      <td>Stubborn, spoiled, and naïve, 10-year-old Chih...</td>\n",
       "      <td>['Adventure', 'Supernatural', 'Drama']</td>\n",
       "      <td>Jul 20, 2001</td>\n",
       "      <td>1.0</td>\n",
       "      <td>913212</td>\n",
       "      <td>40</td>\n",
       "      <td>20.0</td>\n",
       "      <td>8.90</td>\n",
       "      <td>https://cdn.myanimelist.net/images/anime/6/795...</td>\n",
       "      <td>https://myanimelist.net/anime/199/Sen_to_Chihi...</td>\n",
       "    </tr>\n",
       "    <tr>\n",
       "      <th>7</th>\n",
       "      <td>38000</td>\n",
       "      <td>Kimetsu no Yaiba</td>\n",
       "      <td>Ever since the death of his father, the burden...</td>\n",
       "      <td>['Action', 'Demons', 'Historical', 'Shounen', ...</td>\n",
       "      <td>Apr 6, 2019 to Sep 28, 2019</td>\n",
       "      <td>26.0</td>\n",
       "      <td>575037</td>\n",
       "      <td>106</td>\n",
       "      <td>19.0</td>\n",
       "      <td>8.92</td>\n",
       "      <td>https://cdn.myanimelist.net/images/anime/1286/...</td>\n",
       "      <td>https://myanimelist.net/anime/38000/Kimetsu_no...</td>\n",
       "    </tr>\n",
       "    <tr>\n",
       "      <th>8</th>\n",
       "      <td>35247</td>\n",
       "      <td>Owarimonogatari 2nd Season</td>\n",
       "      <td>Following an encounter with oddity specialist ...</td>\n",
       "      <td>['Mystery', 'Comedy', 'Supernatural', 'Vampire']</td>\n",
       "      <td>Aug 12, 2017 to Aug 13, 2017</td>\n",
       "      <td>7.0</td>\n",
       "      <td>189944</td>\n",
       "      <td>573</td>\n",
       "      <td>18.0</td>\n",
       "      <td>8.93</td>\n",
       "      <td>https://cdn.myanimelist.net/images/anime/6/873...</td>\n",
       "      <td>https://myanimelist.net/anime/35247/Owarimonog...</td>\n",
       "    </tr>\n",
       "    <tr>\n",
       "      <th>9</th>\n",
       "      <td>2904</td>\n",
       "      <td>Code Geass: Hangyaku no Lelouch R2</td>\n",
       "      <td>One year has passed since the Black Rebellion,...</td>\n",
       "      <td>['Action', 'Military', 'Sci-Fi', 'Super Power'...</td>\n",
       "      <td>Apr 6, 2008 to Sep 28, 2008</td>\n",
       "      <td>25.0</td>\n",
       "      <td>992196</td>\n",
       "      <td>27</td>\n",
       "      <td>17.0</td>\n",
       "      <td>8.93</td>\n",
       "      <td>https://cdn.myanimelist.net/images/anime/4/939...</td>\n",
       "      <td>https://myanimelist.net/anime/2904/Code_Geass_...</td>\n",
       "    </tr>\n",
       "  </tbody>\n",
       "</table>\n",
       "</div>"
      ],
      "text/plain": [
       "     uid                               title  \\\n",
       "0  28891             Haikyuu!! Second Season   \n",
       "1  23273             Shigatsu wa Kimi no Uso   \n",
       "2  34599                       Made in Abyss   \n",
       "3   5114    Fullmetal Alchemist: Brotherhood   \n",
       "4  31758    Kizumonogatari III: Reiketsu-hen   \n",
       "5  37510                   Mob Psycho 100 II   \n",
       "6    199       Sen to Chihiro no Kamikakushi   \n",
       "7  38000                    Kimetsu no Yaiba   \n",
       "8  35247          Owarimonogatari 2nd Season   \n",
       "9   2904  Code Geass: Hangyaku no Lelouch R2   \n",
       "\n",
       "                                            synopsis  \\\n",
       "0  Following their participation at the Inter-Hig...   \n",
       "1  Music accompanies the path of the human metron...   \n",
       "2  The Abyss—a gaping chasm stretching down into ...   \n",
       "3  \"In order for something to be obtained, someth...   \n",
       "4  After helping revive the legendary vampire Kis...   \n",
       "5  Shigeo \"Mob\" Kageyama is now maturing and unde...   \n",
       "6  Stubborn, spoiled, and naïve, 10-year-old Chih...   \n",
       "7  Ever since the death of his father, the burden...   \n",
       "8  Following an encounter with oddity specialist ...   \n",
       "9  One year has passed since the Black Rebellion,...   \n",
       "\n",
       "                                               genre  \\\n",
       "0  ['Comedy', 'Sports', 'Drama', 'School', 'Shoun...   \n",
       "1  ['Drama', 'Music', 'Romance', 'School', 'Shoun...   \n",
       "2  ['Sci-Fi', 'Adventure', 'Mystery', 'Drama', 'F...   \n",
       "3  ['Action', 'Military', 'Adventure', 'Comedy', ...   \n",
       "4   ['Action', 'Mystery', 'Supernatural', 'Vampire']   \n",
       "5  ['Action', 'Slice of Life', 'Comedy', 'Superna...   \n",
       "6             ['Adventure', 'Supernatural', 'Drama']   \n",
       "7  ['Action', 'Demons', 'Historical', 'Shounen', ...   \n",
       "8   ['Mystery', 'Comedy', 'Supernatural', 'Vampire']   \n",
       "9  ['Action', 'Military', 'Sci-Fi', 'Super Power'...   \n",
       "\n",
       "                          aired  episodes  members  popularity  ranked  score  \\\n",
       "0   Oct 4, 2015 to Mar 27, 2016      25.0   489888         141    25.0   8.82   \n",
       "1  Oct 10, 2014 to Mar 20, 2015      22.0   995473          28    24.0   8.83   \n",
       "2   Jul 7, 2017 to Sep 29, 2017      13.0   581663          98    23.0   8.83   \n",
       "3    Apr 5, 2009 to Jul 4, 2010      64.0  1615084           4     1.0   9.23   \n",
       "4                   Jan 6, 2017       1.0   214621         502    22.0   8.83   \n",
       "5    Jan 7, 2019 to Apr 1, 2019      13.0   442310         176    21.0   8.89   \n",
       "6                  Jul 20, 2001       1.0   913212          40    20.0   8.90   \n",
       "7   Apr 6, 2019 to Sep 28, 2019      26.0   575037         106    19.0   8.92   \n",
       "8  Aug 12, 2017 to Aug 13, 2017       7.0   189944         573    18.0   8.93   \n",
       "9   Apr 6, 2008 to Sep 28, 2008      25.0   992196          27    17.0   8.93   \n",
       "\n",
       "                                             img_url  \\\n",
       "0  https://cdn.myanimelist.net/images/anime/9/766...   \n",
       "1  https://cdn.myanimelist.net/images/anime/3/671...   \n",
       "2  https://cdn.myanimelist.net/images/anime/6/867...   \n",
       "3  https://cdn.myanimelist.net/images/anime/1223/...   \n",
       "4  https://cdn.myanimelist.net/images/anime/3/815...   \n",
       "5  https://cdn.myanimelist.net/images/anime/1918/...   \n",
       "6  https://cdn.myanimelist.net/images/anime/6/795...   \n",
       "7  https://cdn.myanimelist.net/images/anime/1286/...   \n",
       "8  https://cdn.myanimelist.net/images/anime/6/873...   \n",
       "9  https://cdn.myanimelist.net/images/anime/4/939...   \n",
       "\n",
       "                                                link  \n",
       "0  https://myanimelist.net/anime/28891/Haikyuu_Se...  \n",
       "1  https://myanimelist.net/anime/23273/Shigatsu_w...  \n",
       "2  https://myanimelist.net/anime/34599/Made_in_Abyss  \n",
       "3  https://myanimelist.net/anime/5114/Fullmetal_A...  \n",
       "4  https://myanimelist.net/anime/31758/Kizumonoga...  \n",
       "5  https://myanimelist.net/anime/37510/Mob_Psycho...  \n",
       "6  https://myanimelist.net/anime/199/Sen_to_Chihi...  \n",
       "7  https://myanimelist.net/anime/38000/Kimetsu_no...  \n",
       "8  https://myanimelist.net/anime/35247/Owarimonog...  \n",
       "9  https://myanimelist.net/anime/2904/Code_Geass_...  "
      ]
     },
     "execution_count": 4,
     "metadata": {},
     "output_type": "execute_result"
    }
   ],
   "source": [
    "df.head(10)"
   ]
  },
  {
   "cell_type": "code",
   "execution_count": 5,
   "metadata": {
    "ExecuteTime": {
     "end_time": "2020-09-28T21:16:39.904461Z",
     "start_time": "2020-09-28T21:16:39.901969Z"
    }
   },
   "outputs": [
    {
     "data": {
      "text/html": [
       "<div>\n",
       "<style scoped>\n",
       "    .dataframe tbody tr th:only-of-type {\n",
       "        vertical-align: middle;\n",
       "    }\n",
       "\n",
       "    .dataframe tbody tr th {\n",
       "        vertical-align: top;\n",
       "    }\n",
       "\n",
       "    .dataframe thead th {\n",
       "        text-align: right;\n",
       "    }\n",
       "</style>\n",
       "<table border=\"1\" class=\"dataframe\">\n",
       "  <thead>\n",
       "    <tr style=\"text-align: right;\">\n",
       "      <th></th>\n",
       "      <th>uid</th>\n",
       "      <th>episodes</th>\n",
       "      <th>members</th>\n",
       "      <th>popularity</th>\n",
       "      <th>ranked</th>\n",
       "      <th>score</th>\n",
       "    </tr>\n",
       "  </thead>\n",
       "  <tbody>\n",
       "    <tr>\n",
       "      <th>count</th>\n",
       "      <td>19311.000000</td>\n",
       "      <td>18605.000000</td>\n",
       "      <td>1.931100e+04</td>\n",
       "      <td>19311.000000</td>\n",
       "      <td>16099.000000</td>\n",
       "      <td>18732.000000</td>\n",
       "    </tr>\n",
       "    <tr>\n",
       "      <th>mean</th>\n",
       "      <td>19358.904096</td>\n",
       "      <td>11.460414</td>\n",
       "      <td>3.472609e+04</td>\n",
       "      <td>7720.830304</td>\n",
       "      <td>6866.524194</td>\n",
       "      <td>6.436107</td>\n",
       "    </tr>\n",
       "    <tr>\n",
       "      <th>std</th>\n",
       "      <td>14271.446515</td>\n",
       "      <td>47.950386</td>\n",
       "      <td>1.121772e+05</td>\n",
       "      <td>4676.786104</td>\n",
       "      <td>4390.018768</td>\n",
       "      <td>1.007941</td>\n",
       "    </tr>\n",
       "    <tr>\n",
       "      <th>min</th>\n",
       "      <td>1.000000</td>\n",
       "      <td>1.000000</td>\n",
       "      <td>2.500000e+01</td>\n",
       "      <td>1.000000</td>\n",
       "      <td>1.000000</td>\n",
       "      <td>1.250000</td>\n",
       "    </tr>\n",
       "    <tr>\n",
       "      <th>25%</th>\n",
       "      <td>4833.500000</td>\n",
       "      <td>1.000000</td>\n",
       "      <td>3.880000e+02</td>\n",
       "      <td>3725.000000</td>\n",
       "      <td>2895.500000</td>\n",
       "      <td>5.770000</td>\n",
       "    </tr>\n",
       "    <tr>\n",
       "      <th>50%</th>\n",
       "      <td>18327.000000</td>\n",
       "      <td>2.000000</td>\n",
       "      <td>2.389000e+03</td>\n",
       "      <td>7539.000000</td>\n",
       "      <td>6963.000000</td>\n",
       "      <td>6.410000</td>\n",
       "    </tr>\n",
       "    <tr>\n",
       "      <th>75%</th>\n",
       "      <td>33896.500000</td>\n",
       "      <td>12.000000</td>\n",
       "      <td>1.450150e+04</td>\n",
       "      <td>11613.000000</td>\n",
       "      <td>10601.500000</td>\n",
       "      <td>7.150000</td>\n",
       "    </tr>\n",
       "    <tr>\n",
       "      <th>max</th>\n",
       "      <td>40960.000000</td>\n",
       "      <td>3057.000000</td>\n",
       "      <td>1.871043e+06</td>\n",
       "      <td>16338.000000</td>\n",
       "      <td>14675.000000</td>\n",
       "      <td>9.230000</td>\n",
       "    </tr>\n",
       "  </tbody>\n",
       "</table>\n",
       "</div>"
      ],
      "text/plain": [
       "                uid      episodes       members    popularity        ranked  \\\n",
       "count  19311.000000  18605.000000  1.931100e+04  19311.000000  16099.000000   \n",
       "mean   19358.904096     11.460414  3.472609e+04   7720.830304   6866.524194   \n",
       "std    14271.446515     47.950386  1.121772e+05   4676.786104   4390.018768   \n",
       "min        1.000000      1.000000  2.500000e+01      1.000000      1.000000   \n",
       "25%     4833.500000      1.000000  3.880000e+02   3725.000000   2895.500000   \n",
       "50%    18327.000000      2.000000  2.389000e+03   7539.000000   6963.000000   \n",
       "75%    33896.500000     12.000000  1.450150e+04  11613.000000  10601.500000   \n",
       "max    40960.000000   3057.000000  1.871043e+06  16338.000000  14675.000000   \n",
       "\n",
       "              score  \n",
       "count  18732.000000  \n",
       "mean       6.436107  \n",
       "std        1.007941  \n",
       "min        1.250000  \n",
       "25%        5.770000  \n",
       "50%        6.410000  \n",
       "75%        7.150000  \n",
       "max        9.230000  "
      ]
     },
     "execution_count": 5,
     "metadata": {},
     "output_type": "execute_result"
    }
   ],
   "source": [
    "# Získat základní statistiky o datech (count, mean, std, min, max,..)\n",
    "df.describe()"
   ]
  },
  {
   "cell_type": "code",
   "execution_count": null,
   "metadata": {
    "ExecuteTime": {
     "end_time": "2020-09-28T21:16:46.417136Z",
     "start_time": "2020-09-28T21:16:46.414727Z"
    }
   },
   "outputs": [],
   "source": [
    "# Vybereme pouze řádky (ne)obsahující missing values\n",
    "df.isnull() == df.isna()\n",
    "# isnull, isna, notnull, notna\n",
    "#print(df.isnull().sum())\n",
    "df.notnull().sum()"
   ]
  },
  {
   "cell_type": "code",
   "execution_count": null,
   "metadata": {
    "ExecuteTime": {
     "end_time": "2020-09-28T21:16:51.767497Z",
     "start_time": "2020-09-28T21:16:51.764619Z"
    }
   },
   "outputs": [],
   "source": [
    "# Názvy sloupců v DataFrame\n",
    "df.columns"
   ]
  },
  {
   "cell_type": "code",
   "execution_count": null,
   "metadata": {
    "ExecuteTime": {
     "end_time": "2020-09-28T21:16:54.355795Z",
     "start_time": "2020-09-28T21:16:54.353622Z"
    }
   },
   "outputs": [],
   "source": [
    "# Názvy řádků v DataFrame\n",
    "df.index"
   ]
  },
  {
   "cell_type": "markdown",
   "metadata": {},
   "source": [
    "#### Přístup ke sloupcům v DataFrame\n",
    "- Přístup možný 2 způsoby:\n",
    "    - `df[\"Age\"]`\n",
    "    - `df.Age`\n",
    "- Po výběru jednoho sloupce již pracujeme s `pd.Series`!\n",
    "- Pro tvorbu nového sloupce je nutné použít hranaté závorky\n",
    "- Attribute access občas nejde použít (speciální název sloupce, mezery,..)"
   ]
  },
  {
   "cell_type": "markdown",
   "metadata": {},
   "source": [
    "### Základy přístupu k datům "
   ]
  },
  {
   "cell_type": "code",
   "execution_count": 6,
   "metadata": {
    "ExecuteTime": {
     "end_time": "2020-09-28T21:16:58.958590Z",
     "start_time": "2020-09-28T21:16:58.956118Z"
    }
   },
   "outputs": [
    {
     "data": {
      "text/plain": [
       "0        ['Comedy', 'Sports', 'Drama', 'School', 'Shoun...\n",
       "1        ['Drama', 'Music', 'Romance', 'School', 'Shoun...\n",
       "2        ['Sci-Fi', 'Adventure', 'Mystery', 'Drama', 'F...\n",
       "3        ['Action', 'Military', 'Adventure', 'Comedy', ...\n",
       "4         ['Action', 'Mystery', 'Supernatural', 'Vampire']\n",
       "                               ...                        \n",
       "19306           ['Sci-Fi', 'Adventure', 'Comedy', 'Magic']\n",
       "19307    ['Adventure', 'Fantasy', 'Magic', 'Martial Art...\n",
       "19308                ['Mystery', 'Horror', 'Supernatural']\n",
       "19309    ['Action', 'Adventure', 'Comedy', 'Historical'...\n",
       "19310    ['Military', 'Sci-Fi', 'Space', 'Drama', 'Mecha']\n",
       "Name: genre, Length: 19311, dtype: object"
      ]
     },
     "execution_count": 6,
     "metadata": {},
     "output_type": "execute_result"
    }
   ],
   "source": [
    "# Vybereme sloupec Age (výsledkem je Series). Na ní vybereme prvních 10 hodnot.\n",
    "col = df.genre"
   ]
  },
  {
   "cell_type": "code",
   "execution_count": null,
   "metadata": {
    "ExecuteTime": {
     "end_time": "2020-09-28T21:17:01.399105Z",
     "start_time": "2020-09-28T21:17:01.396515Z"
    }
   },
   "outputs": [],
   "source": [
    "# Vybereme sloupce \"Age\" a \"Sex\". Výsledekem je DataFrame!\n",
    "#df[[\"Age\",\"Sex\"]]"
   ]
  },
  {
   "cell_type": "code",
   "execution_count": null,
   "metadata": {
    "ExecuteTime": {
     "end_time": "2020-09-28T21:17:03.965832Z",
     "start_time": "2020-09-28T21:17:03.963700Z"
    }
   },
   "outputs": [],
   "source": [
    "# Jak vybrat 3 a 4 řádek dataframe?\n",
    "df.iloc[3:5]"
   ]
  },
  {
   "cell_type": "code",
   "execution_count": null,
   "metadata": {
    "ExecuteTime": {
     "end_time": "2020-09-28T21:17:07.902608Z",
     "start_time": "2020-09-28T21:17:07.899941Z"
    }
   },
   "outputs": [],
   "source": [
    "# Kolik lidí bylo starších 30 let?\n",
    "(df.Age>30).sum()"
   ]
  },
  {
   "cell_type": "code",
   "execution_count": null,
   "metadata": {
    "ExecuteTime": {
     "end_time": "2020-09-28T21:17:10.036166Z",
     "start_time": "2020-09-28T21:17:10.033860Z"
    }
   },
   "outputs": [],
   "source": [
    "# Kdo bydlel v kabině D33?\n",
    "df[df.Cabin == \"D33\"]"
   ]
  },
  {
   "cell_type": "code",
   "execution_count": null,
   "metadata": {
    "ExecuteTime": {
     "end_time": "2020-09-28T21:17:13.502994Z",
     "start_time": "2020-09-28T21:17:13.500338Z"
    }
   },
   "outputs": [],
   "source": [
    "# Jak nalézt všechny jejichž jméno začíná na Goodwin?\n",
    "df[df.Name.str.startswith('Goodwin')]"
   ]
  },
  {
   "cell_type": "markdown",
   "metadata": {},
   "source": [
    "## Úloha 01: Zřetězení dat\n",
    "\n",
    "  - Připojte data2.csv za data1.csv následujícím způsobem:\n",
    "      - Data (sloupce), která nejsou v data1.csv jsou v data2.csv vynechána.\n",
    "      - Spočítejte věk pomocí sloupce BirthYear (rok narození) v data2.csv a uložte jej do sloupce Age.\n",
    "      - PasangerId musí být unikátní. Nastavíme ho jako nový index."
   ]
  },
  {
   "cell_type": "code",
   "execution_count": null,
   "metadata": {
    "ExecuteTime": {
     "end_time": "2020-09-28T21:17:20.653520Z",
     "start_time": "2020-09-28T21:17:20.650942Z"
    }
   },
   "outputs": [],
   "source": [
    "# Načteme soubor data2.csv a zkontrolujeme, že sedí názvy sloupců a zbytečné odstraníme\n",
    "df2 = ..."
   ]
  },
  {
   "cell_type": "code",
   "execution_count": null,
   "metadata": {
    "ExecuteTime": {
     "end_time": "2020-09-28T21:17:22.643516Z",
     "start_time": "2020-09-28T21:17:22.641156Z"
    }
   },
   "outputs": [],
   "source": [
    "# V nově načteném df spočítáme věk cestujících\n"
   ]
  },
  {
   "cell_type": "code",
   "execution_count": null,
   "metadata": {
    "ExecuteTime": {
     "end_time": "2020-09-28T21:17:24.628170Z",
     "start_time": "2020-09-28T21:17:24.625645Z"
    }
   },
   "outputs": [],
   "source": [
    "# Odstraníme zbytečné sloupce\n"
   ]
  },
  {
   "cell_type": "code",
   "execution_count": null,
   "metadata": {
    "ExecuteTime": {
     "end_time": "2020-09-28T21:17:34.586959Z",
     "start_time": "2020-09-28T21:17:34.584537Z"
    }
   },
   "outputs": [],
   "source": [
    "# Spojíme soubory data1.csv a data2.csv (existuje více způsobů). Všimněte si, že index nyní neodpovídá!\n"
   ]
  },
  {
   "cell_type": "code",
   "execution_count": null,
   "metadata": {
    "ExecuteTime": {
     "end_time": "2020-09-28T21:17:37.268679Z",
     "start_time": "2020-09-28T21:17:37.266258Z"
    }
   },
   "outputs": [],
   "source": [
    "# Dává smysl, abychom použili PassengerID jako nový index. Ovšem obsahuje neunikátní hodnoty! Let's fix that.\n"
   ]
  },
  {
   "cell_type": "code",
   "execution_count": null,
   "metadata": {
    "ExecuteTime": {
     "end_time": "2020-09-28T21:17:39.604926Z",
     "start_time": "2020-09-28T21:17:39.602399Z"
    }
   },
   "outputs": [],
   "source": [
    "# Nastavíme sloupec PassengerID jako nový index\n"
   ]
  },
  {
   "cell_type": "code",
   "execution_count": null,
   "metadata": {
    "ExecuteTime": {
     "end_time": "2020-09-28T21:18:04.652467Z",
     "start_time": "2020-09-28T21:18:04.642752Z"
    }
   },
   "outputs": [],
   "source": [
    "import matplotlib\n",
    "import matplotlib.pyplot as plt\n",
    "\n",
    "# Matplotlib umožňuje změnit styl na jiný, než defaultní\n",
    "matplotlib.style.use('ggplot')\n",
    "\n",
    "# Bez násl. řádku někdy nefunguje vykreslování grafů v Jupyter noteboocích\n",
    "%matplotlib inline "
   ]
  },
  {
   "cell_type": "markdown",
   "metadata": {},
   "source": [
    "### Základní chování grafů"
   ]
  },
  {
   "cell_type": "code",
   "execution_count": null,
   "metadata": {
    "ExecuteTime": {
     "end_time": "2020-09-28T21:18:09.300096Z",
     "start_time": "2020-09-28T21:18:09.297335Z"
    }
   },
   "outputs": [],
   "source": [
    "# Co se stane když pustíme graf bez žádných parametrů?\n",
    "df.plot()\n",
    "#df.info()\n",
    "plt.show()"
   ]
  },
  {
   "cell_type": "markdown",
   "metadata": {},
   "source": [
    "### Běžně používané typy grafů\n",
    "* Ukážeme si běžně používané typy grafů na věku pasažérů"
   ]
  },
  {
   "cell_type": "code",
   "execution_count": null,
   "metadata": {
    "ExecuteTime": {
     "end_time": "2020-09-28T21:18:14.971513Z",
     "start_time": "2020-09-28T21:18:14.968825Z"
    }
   },
   "outputs": [],
   "source": [
    "# Line chart\n",
    "df.Age.plot()\n",
    "plt.show()"
   ]
  },
  {
   "cell_type": "code",
   "execution_count": null,
   "metadata": {
    "ExecuteTime": {
     "end_time": "2020-09-28T21:18:17.955490Z",
     "start_time": "2020-09-28T21:18:17.952959Z"
    }
   },
   "outputs": [],
   "source": [
    "# Histogram. Správný graf pro tento usecase.\n",
    "df.Age.plot(kind='hist', title=\"My title\")\n",
    "plt.show()"
   ]
  },
  {
   "cell_type": "code",
   "execution_count": null,
   "metadata": {
    "ExecuteTime": {
     "end_time": "2020-09-28T21:18:21.211645Z",
     "start_time": "2020-09-28T21:18:21.209039Z"
    }
   },
   "outputs": [],
   "source": [
    "# Boxplot je taktéž vynikající graf\n",
    "plt.figure(figsize=(6,6))\n",
    "#df.boxplot()\n",
    "df.boxplot(column=[\"Age\"])\n",
    "plt.show()"
   ]
  },
  {
   "cell_type": "markdown",
   "metadata": {},
   "source": [
    "### Vizualizace závislosti na přežití\n",
    "\n",
    "* Nejprve rozdělíme na dvě části - `survived` a `not_survived`"
   ]
  },
  {
   "cell_type": "code",
   "execution_count": null,
   "metadata": {},
   "outputs": [],
   "source": [
    "import seaborn as sns\n",
    "fig, ax = plt.subplots()\n",
    "df.groupby(by='Pclass').Age.apply(lambda x: sns.distplot(x, label=x.name))\n",
    "ax.set_xlabel(\"Age of passenger\")\n",
    "ax.legend()\n",
    "plt.show()"
   ]
  },
  {
   "cell_type": "code",
   "execution_count": null,
   "metadata": {
    "ExecuteTime": {
     "end_time": "2020-09-28T21:18:26.851696Z",
     "start_time": "2020-09-28T21:18:26.848883Z"
    }
   },
   "outputs": [],
   "source": [
    "# Rozdělíme na survived a not_survived\n",
    "survived = df[df['Survived'] == 1]\n",
    "not_survived = df[df['Survived'] == 0]"
   ]
  },
  {
   "cell_type": "markdown",
   "metadata": {},
   "source": [
    "* Podíváme se na závislost věku a třídy na přežití\n",
    "    * Vzhledem k tomu, že se jedná o dvě proměné je potřeba dvourozměrný graf\n",
    "    * Ideální bude scatter plot (ještě lepší by byl boxplot!)"
   ]
  },
  {
   "cell_type": "code",
   "execution_count": null,
   "metadata": {
    "ExecuteTime": {
     "end_time": "2020-09-28T21:18:33.282964Z",
     "start_time": "2020-09-28T21:18:33.280558Z"
    }
   },
   "outputs": [],
   "source": [
    "# df.boxplot nevyžaduje ani groupby\n",
    "ax = df.boxplot(column='Age', by='Survived')\n",
    "ax.set_title(\"\")\n",
    "ax.set_ylabel(\" age\")\n",
    "plt.show()"
   ]
  },
  {
   "cell_type": "code",
   "execution_count": null,
   "metadata": {
    "ExecuteTime": {
     "end_time": "2020-09-28T21:18:56.930667Z",
     "start_time": "2020-09-28T21:18:56.928372Z"
    }
   },
   "outputs": [],
   "source": [
    "# Vykreslíme do dvou scatter grafů\n",
    "survived.plot.scatter(x='Age', y='Pclass',color='Green',label='Survived', alpha=0.4)\n",
    "plt.yticks([1,2,3])\n",
    "not_survived.plot(x='Age', y='Pclass',kind='scatter', color='Black',label='Not Survived', alpha=0.4)\n",
    "plt.yticks([1,2,3])\n",
    "plt.show()"
   ]
  },
  {
   "cell_type": "code",
   "execution_count": null,
   "metadata": {
    "ExecuteTime": {
     "end_time": "2020-09-28T21:19:00.827891Z",
     "start_time": "2020-09-28T21:19:00.824968Z"
    }
   },
   "outputs": [],
   "source": [
    "# Lze vykreslit i do jednoho grafu (nutné předat axis objekt)\n"
   ]
  },
  {
   "cell_type": "markdown",
   "metadata": {},
   "source": [
    "### Zobrazování subgrafů\n",
    "\n",
    "* Co když chceme mí více grafů vedle sebe nebo i pod sebou?\n",
    "* Dvě hlavní možnosti\n",
    "    1. Metoda `plt.subplot`\n",
    "    2. Metoda `plt.subplots`"
   ]
  },
  {
   "cell_type": "code",
   "execution_count": null,
   "metadata": {
    "ExecuteTime": {
     "end_time": "2020-09-28T21:19:05.577061Z",
     "start_time": "2020-09-28T21:19:04.702985Z"
    }
   },
   "outputs": [],
   "source": [
    "# Nastavíme velikost grafu (příliš malý graf je nečitelný)\n",
    "plt.figure(figsize=(9,12)) # velikost figsize se určuje v palcích (angl. inches)\n",
    "\n",
    "# První použijeme metodu plt.subplot\n",
    "plt.subplot(321) # tři řádky a dva sloupce, přiřaď následující graf do prvního slotu   TOHLE JE DULEZITY RADEK\n",
    "survived['Age'].plot.hist(color='Green')\n",
    "plt.subplot(322)\n",
    "not_survived['Age'].plot.hist(color='Black')\n",
    "plt.subplot(323)\n",
    "survived['Pclass'].plot.hist(color='Green')\n",
    "plt.subplot(324)\n",
    "not_survived['Pclass'].plot.hist(color='Black')\n",
    "plt.subplot(325)\n",
    "survived['Sex'].apply(lambda x: 1 if x == 'female' else 0).plot.hist(color='Green')\n",
    "plt.subplot(326)\n",
    "not_survived['Sex'].apply(lambda x: 1 if x == 'female' else 0).plot.hist(color='Black')\n",
    "\n",
    "plt.show()"
   ]
  },
  {
   "cell_type": "code",
   "execution_count": null,
   "metadata": {
    "ExecuteTime": {
     "end_time": "2020-09-28T21:19:06.436600Z",
     "start_time": "2020-09-28T21:19:05.579401Z"
    }
   },
   "outputs": [],
   "source": [
    "# Druhá možnost je metoda plt.subplots\n",
    "fig, ax = plt.subplots(3, 2, figsize=(9,12))\n",
    "\n",
    "survived['Age'].plot.hist(color='Green', ax=ax[0,0])\n",
    "not_survived['Age'].plot.hist(color='Black', ax=ax[0,1])\n",
    "\n",
    "survived['Pclass'].plot.hist(color='Green', ax=ax[1,0])\n",
    "not_survived['Pclass'].plot.hist(color='Black', ax=ax[1,1])\n",
    "\n",
    "survived['Sex'].apply(lambda x: 1 if x == 'female' else 0).plot.hist(color='Green', ax=ax[2,0])\n",
    "not_survived['Sex'].apply(lambda x: 1 if x == 'female' else 0).plot.hist(color='Black', ax=ax[2,1])\n",
    "\n",
    "plt.show()"
   ]
  },
  {
   "cell_type": "markdown",
   "metadata": {},
   "source": [
    "## Seaborne\n",
    "* Využívá matplotlib\n",
    "* Lze v ní snadno vytvořit grafy, které není snadné v matplotlibu napsat rychle\n",
    "### Jak zjistit jaké mají příznaky vztahy mezi sebou?\n",
    "* Chceme zjistit jak moc navzájem korelují jednotlivé příznaky\n",
    "* Ideální graf na toto je heatmapa korelační matice"
   ]
  },
  {
   "cell_type": "code",
   "execution_count": null,
   "metadata": {
    "ExecuteTime": {
     "end_time": "2020-09-28T21:19:10.950988Z",
     "start_time": "2020-09-28T21:19:10.948508Z"
    }
   },
   "outputs": [],
   "source": [
    "# Heatmapa umí pracovat jen s číselnými hodnotami, je tedy nutné převést text na číselnou hodnotu\n",
    "df.Sex = df.Sex.replace({\"male\": 0, \"female\": 1})"
   ]
  },
  {
   "cell_type": "code",
   "execution_count": null,
   "metadata": {
    "ExecuteTime": {
     "end_time": "2020-09-28T21:19:24.721077Z",
     "start_time": "2020-09-28T21:19:24.718325Z"
    }
   },
   "outputs": [],
   "source": [
    "# Vytvoříme korelační matici\n",
    "cor_matrix = df.corr()\n",
    "cor_matrix\n",
    "# Zobrazení heatmapy\n",
    "plt.figure(figsize=(14,12))\n",
    "sns.heatmap(cor_matrix,annot=True)\n",
    "plt.show()"
   ]
  },
  {
   "cell_type": "code",
   "execution_count": null,
   "metadata": {
    "ExecuteTime": {
     "end_time": "2020-09-28T21:19:33.073108Z",
     "start_time": "2020-09-28T21:19:33.070377Z"
    }
   },
   "outputs": [],
   "source": [
    "\n",
    "\n",
    "\n"
   ]
  },
  {
   "cell_type": "code",
   "execution_count": null,
   "metadata": {
    "ExecuteTime": {
     "end_time": "2020-09-28T21:20:30.958778Z",
     "start_time": "2020-09-28T21:20:30.956445Z"
    }
   },
   "outputs": [],
   "source": [
    "# Stripplot podle x=Pclass a y=Age, hue=Survived, data=df\n",
    "plt.figure(figsize=(12,4))\n",
    "sns.stripplot(x=\"Pclass\", y=\"Age\", hue=\"Survived\", data=df,jitter=0.1, palette=['black','green'])\n",
    "plt.show()\n"
   ]
  },
  {
   "cell_type": "markdown",
   "metadata": {},
   "source": [
    "## Úloha 02: vytvořte bodový graf (scatter plot) pro všechny dvojice příznaků\n",
    "\n",
    "  - K vykreslení všech (smysluplných) dvojic příznaků použijte metodu sns.pairplot, podobným způsobem jako metodu níže."
   ]
  },
  {
   "cell_type": "code",
   "execution_count": null,
   "metadata": {
    "ExecuteTime": {
     "end_time": "2020-09-28T21:20:40.694697Z",
     "start_time": "2020-09-28T21:20:40.692419Z"
    }
   },
   "outputs": [],
   "source": [
    "# Použije Seaborn pairplot s tím, že nás zajímá přežití a chceme vidět histogramy na diagonále\n",
    "sns.pairplot(df, hue=\"Survived\", diag_kind=\"hist\")\n",
    "plt.show()"
   ]
  },
  {
   "cell_type": "markdown",
   "metadata": {},
   "source": [
    "## Stahování dat z webu pomocí Pythonu a pandas (1. úkol)\n",
    "          \n",
    "### Tipy pro scrapping s Pythonem:\n",
    "   - K získání HTML zdrojáku stránky s `url` použijte `import requests`: \n",
    "      - `r = requests.get(url)`\n",
    "      - `html = r.text`\n",
    "   - Metoda `pandas.read_html(r.text)` uloží všechny tabulky `<table>` jako seznam pandas DataFrames:\n",
    "      - `list_of_data_frames = pd.read_html(html,flavor='html5lib')`\n",
    "   - Pro HTML parsování lze použít `from bs4 import BeautifulSoup`."
   ]
  },
  {
   "cell_type": "code",
   "execution_count": null,
   "metadata": {
    "ExecuteTime": {
     "end_time": "2020-09-28T21:15:01.310512Z",
     "start_time": "2020-09-28T21:14:47.727Z"
    }
   },
   "outputs": [],
   "source": [
    "import requests"
   ]
  },
  {
   "cell_type": "code",
   "execution_count": null,
   "metadata": {
    "ExecuteTime": {
     "end_time": "2020-09-28T21:15:01.311911Z",
     "start_time": "2020-09-28T21:14:47.729Z"
    }
   },
   "outputs": [],
   "source": [
    "# příklad pro statutární město Kladno, výsledky voleb pro rok 2010\n",
    "url = 'https://www.volby.cz/pls/kv2010/kv1111?xjazyk=CZ&xid=0&xdz=3&xnumnuts=2103&xobec=532053&xstat=0&xvyber=0'\n",
    "dfs = pd.read_html(url,flavor='html5lib')"
   ]
  },
  {
   "cell_type": "markdown",
   "metadata": {},
   "source": [
    "### Pro zajímavost (z předloňského roku): Příklad jednoduchého stažení dat z webu pomocí POST formuláře.\n",
    "\n",
    "Úkolem je stáhnout všechna data z http://kap.ujak.cz/index.php a uložit je ve formátu pandas DataFrame.\n",
    "#### První ukážeme variantu s pd.read_html"
   ]
  },
  {
   "cell_type": "code",
   "execution_count": null,
   "metadata": {
    "ExecuteTime": {
     "end_time": "2020-09-28T21:15:01.313849Z",
     "start_time": "2020-09-28T21:14:47.730Z"
    }
   },
   "outputs": [],
   "source": [
    "# url s formulářem\n",
    "url = 'https://kap.ujak.cz/index.php'\n",
    "# nastavení POST proměnných simulující odeslání formuláře\n",
    "data = {\n",
    "    'prace' : 'BP', # DP = diplomka, DR = disertace, RI = rigorozní\n",
    "    'nazev' : '%%%', # alespoň tři písmena z názvu hledané práce\n",
    "    'pocet' : '0',\n",
    "    'klic' : '', # alespoň tři písmena z klíčových slov\n",
    "    'kl' : 'c', # c = částečně odpovídá, n = plně odpovídá\n",
    "    'hledat' : 'Vyhledat'\n",
    "}\n",
    "\n",
    "data_all = pd.DataFrame()\n",
    "for prace in ['BP', 'DP']:\n",
    "    data['prace'] = prace\n",
    "    r = requests.post(url, data=data)\n",
    "    r.encoding='cp1250'\n",
    "    ldf = pd.read_html(r.text,flavor='html5lib', header=0)\n",
    "    df_ujak = ldf[0]\n",
    "    strana = 30\n",
    "    if data_all.shape[0] == 0:\n",
    "        data_all = df.copy()\n",
    "    else:\n",
    "        data_all = pd.concat([data_all,df], ignore_index=True)\n",
    "    while df.shape[0] > 0:\n",
    "        if data_all.shape[0] > 200: # just to prevent from downloading all data\n",
    "            break\n",
    "        r = requests.post(url.format(strana), data)\n",
    "        r.encoding='cp1250'\n",
    "        ldf = pd.read_html(r.text,flavor='html5lib', header=0)\n",
    "        df_ujak = ldf[0]\n",
    "        strana = strana + 30\n",
    "        data_all = pd.concat([data_all,df_ujak], ignore_index=True)"
   ]
  },
  {
   "cell_type": "code",
   "execution_count": null,
   "metadata": {
    "ExecuteTime": {
     "end_time": "2020-09-28T21:15:01.316061Z",
     "start_time": "2020-09-28T21:14:47.732Z"
    }
   },
   "outputs": [],
   "source": [
    "data_all"
   ]
  },
  {
   "cell_type": "markdown",
   "metadata": {},
   "source": [
    "#### Lze použít i requests a bs4\n",
    "* Pokud se podíváme na původní stránku, můžeme si všimnout že název práce zároveň slouží jako odkaz na práci samotnou.\n",
    "* Tento odkaz ale `pandas.read_html` nedokázalo extrahovat. \n",
    "* Zkusíme jej tedy extrahovat pomocí Beautiful Soup z bs4."
   ]
  },
  {
   "cell_type": "code",
   "execution_count": null,
   "metadata": {
    "ExecuteTime": {
     "end_time": "2020-09-28T21:15:01.317628Z",
     "start_time": "2020-09-28T21:14:47.733Z"
    }
   },
   "outputs": [],
   "source": [
    "from bs4 import BeautifulSoup"
   ]
  },
  {
   "cell_type": "code",
   "execution_count": null,
   "metadata": {
    "ExecuteTime": {
     "end_time": "2020-09-28T21:15:01.318966Z",
     "start_time": "2020-09-28T21:14:47.736Z"
    }
   },
   "outputs": [],
   "source": [
    "# url s formulářem\n",
    "url = 'https://kap.ujak.cz/index.php'\n",
    "# nastavení POST proměnných simulující odeslání formuláře\n",
    "data = {\n",
    "    'prace' : 'BP', # DP = diplomka, DR = disertace, RI = rigorozní\n",
    "    'nazev' : '%%%', # alespoň tři písmena z názvu hledané práce\n",
    "    'pocet' : '0',\n",
    "    'klic' : '', # alespoň tři písmena z klíčových slov\n",
    "    'kl' : 'c', # c = částečně odpovídá, n = plně odpovídá\n",
    "    'hledat' : 'Vyhledat'\n",
    "}\n",
    "\n",
    "links = {'BP': [],\n",
    "         'DP': []}\n",
    "\n",
    "for prace in ['BP', 'DP']:\n",
    "    data['prace'] = prace\n",
    "    r = requests.post(url, data=data)\n",
    "    r.encoding='cp1250'\n",
    "\n",
    "    soup = BeautifulSoup(r.text, 'html.parser')  # Použije html parser na rozparsování stránky\n",
    "    for line in soup.table.find_all('tr'):  # Z tabulky dostaneme všechny řádky\n",
    "        links[prace].append(line.find('a').get('href'))  # Z každé řádky dostaneme odkaz na práci\n",
    "    \n",
    "    while len(links[prace]) > 0:  # Zpracování následujících stránek\n",
    "        if len(links[prace]) > 200: # just to prevent from downloading all data\n",
    "            break\n",
    "        r = requests.post(url.format(strana), data)\n",
    "        r.encoding='cp1250'\n",
    "        soup = BeautifulSoup(r.text, 'html.parser')\n",
    "        for line in soup.table.find_all('tr'):\n",
    "            links[prace].append(line.find('a').get('href'))"
   ]
  },
  {
   "cell_type": "code",
   "execution_count": null,
   "metadata": {
    "ExecuteTime": {
     "end_time": "2020-09-28T21:15:01.320180Z",
     "start_time": "2020-09-28T21:14:47.737Z"
    }
   },
   "outputs": [],
   "source": [
    "links_to_thesis = pd.DataFrame(links)\n",
    "links_to_thesis"
   ]
  },
  {
   "cell_type": "markdown",
   "metadata": {},
   "source": [
    "#### Další možností je použít přímo knihovnu pro scrapování\n",
    "* Ukážeme si knihovnu `scrapy`\n",
    "* Ve složce je soubor s názvem `ujak_crawler.py`\n",
    "    * Tento script stáhne data o pracích i s linky na ně\n",
    "    * Bohužel se špatně pouští v Jupyter Notebooku a tak jí pustíme přes shell"
   ]
  },
  {
   "cell_type": "code",
   "execution_count": null,
   "metadata": {
    "ExecuteTime": {
     "end_time": "2020-09-28T21:15:01.321726Z",
     "start_time": "2020-09-28T21:14:47.738Z"
    },
    "jupyter": {
     "outputs_hidden": true
    }
   },
   "outputs": [],
   "source": [
    "!scrapy runspider crawler/ujak_crawler.py -o crawler/crawled_data.csv"
   ]
  },
  {
   "cell_type": "markdown",
   "metadata": {},
   "source": [
    "### Pro zajímavost se můžeme podívat kolik prací se stejným názvem bylo na UJAK od roku 2000\n",
    "* Tohoto se dá snadno docílit přes `groupby`"
   ]
  },
  {
   "cell_type": "code",
   "execution_count": null,
   "metadata": {
    "ExecuteTime": {
     "end_time": "2020-09-28T21:21:06.147040Z",
     "start_time": "2020-09-28T21:21:06.144364Z"
    }
   },
   "outputs": [],
   "source": [
    "# Načteme data z crawler/ujak.csv\n"
   ]
  },
  {
   "cell_type": "code",
   "execution_count": null,
   "metadata": {
    "ExecuteTime": {
     "end_time": "2020-09-28T21:21:55.307865Z",
     "start_time": "2020-09-28T21:21:55.305281Z"
    }
   },
   "outputs": [],
   "source": [
    "# Zjistíme počty prací se stejným názvem starších než v roce 2000 (filter, groupby, agregační operace)\n"
   ]
  }
 ],
 "metadata": {
  "kernelspec": {
   "display_name": "Python 3 (ipykernel)",
   "language": "python",
   "name": "python3"
  },
  "language_info": {
   "codemirror_mode": {
    "name": "ipython",
    "version": 3
   },
   "file_extension": ".py",
   "mimetype": "text/x-python",
   "name": "python",
   "nbconvert_exporter": "python",
   "pygments_lexer": "ipython3",
   "version": "3.9.12"
  }
 },
 "nbformat": 4,
 "nbformat_minor": 4
}
