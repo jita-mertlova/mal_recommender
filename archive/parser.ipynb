{
 "cells": [
  {
   "cell_type": "markdown",
   "metadata": {},
   "source": [
    "# VWM project: analyse and parse the anime dataset"
   ]
  },
  {
   "cell_type": "code",
   "execution_count": 1,
   "metadata": {
    "ExecuteTime": {
     "end_time": "2020-09-28T21:14:48.137051Z",
     "start_time": "2020-09-28T21:14:47.648561Z"
    }
   },
   "outputs": [],
   "source": [
    "import warnings\n",
    "warnings.filterwarnings('ignore')\n",
    "import pandas as pd\n",
    "import numpy as np\n",
    "import math"
   ]
  },
  {
   "cell_type": "markdown",
   "metadata": {},
   "source": [
    "The dataset was downloaded from this website:\n",
    "https://www.kaggle.com/datasets/marlesson/myanimelist-dataset-animes-profiles-reviews?resource=download"
   ]
  },
  {
   "cell_type": "code",
   "execution_count": 2,
   "metadata": {
    "ExecuteTime": {
     "end_time": "2020-09-28T21:16:23.158616Z",
     "start_time": "2020-09-28T21:16:23.156056Z"
    }
   },
   "outputs": [],
   "source": [
    "df = pd.read_csv(\"animesWorking.csv\")"
   ]
  },
  {
   "cell_type": "code",
   "execution_count": 3,
   "metadata": {
    "ExecuteTime": {
     "end_time": "2020-09-28T21:16:35.815574Z",
     "start_time": "2020-09-28T21:16:35.812948Z"
    }
   },
   "outputs": [
    {
     "name": "stdout",
     "output_type": "stream",
     "text": [
      "<class 'pandas.core.frame.DataFrame'>\n",
      "RangeIndex: 19311 entries, 0 to 19310\n",
      "Data columns (total 12 columns):\n",
      " #   Column      Non-Null Count  Dtype  \n",
      "---  ------      --------------  -----  \n",
      " 0   uid         19311 non-null  int64  \n",
      " 1   title       19311 non-null  object \n",
      " 2   synopsis    18336 non-null  object \n",
      " 3   genre       19311 non-null  object \n",
      " 4   aired       19311 non-null  object \n",
      " 5   episodes    18605 non-null  float64\n",
      " 6   members     19311 non-null  int64  \n",
      " 7   popularity  19311 non-null  int64  \n",
      " 8   ranked      16099 non-null  float64\n",
      " 9   score       18732 non-null  float64\n",
      " 10  img_url     19131 non-null  object \n",
      " 11  link        19311 non-null  object \n",
      "dtypes: float64(3), int64(3), object(6)\n",
      "memory usage: 1.8+ MB\n"
     ]
    }
   ],
   "source": [
    "df.info()\n",
    "#df.head(10)"
   ]
  },
  {
   "cell_type": "code",
   "execution_count": 4,
   "metadata": {},
   "outputs": [
    {
     "name": "stdout",
     "output_type": "stream",
     "text": [
      "Index(['uid', 'title', 'synopsis', 'genre', 'aired', 'episodes', 'members',\n",
      "       'popularity', 'ranked', 'score', 'img_url', 'link'],\n",
      "      dtype='object')\n"
     ]
    }
   ],
   "source": [
    "print(df.columns)"
   ]
  },
  {
   "cell_type": "code",
   "execution_count": 5,
   "metadata": {
    "ExecuteTime": {
     "end_time": "2020-09-28T21:16:58.958590Z",
     "start_time": "2020-09-28T21:16:58.956118Z"
    }
   },
   "outputs": [
    {
     "name": "stdout",
     "output_type": "stream",
     "text": [
      "0        ['Comedy', 'Sports', 'Drama', 'School', 'Shoun...\n",
      "1        ['Drama', 'Music', 'Romance', 'School', 'Shoun...\n",
      "2        ['Sci-Fi', 'Adventure', 'Mystery', 'Drama', 'F...\n",
      "3        ['Action', 'Military', 'Adventure', 'Comedy', ...\n",
      "4         ['Action', 'Mystery', 'Supernatural', 'Vampire']\n",
      "                               ...                        \n",
      "19306           ['Sci-Fi', 'Adventure', 'Comedy', 'Magic']\n",
      "19307    ['Adventure', 'Fantasy', 'Magic', 'Martial Art...\n",
      "19308                ['Mystery', 'Horror', 'Supernatural']\n",
      "19309    ['Action', 'Adventure', 'Comedy', 'Historical'...\n",
      "19310    ['Military', 'Sci-Fi', 'Space', 'Drama', 'Mecha']\n",
      "Name: genre, Length: 19311, dtype: object\n"
     ]
    }
   ],
   "source": [
    "genre_column = df.genre\n",
    "print(genre_column)"
   ]
  },
  {
   "cell_type": "code",
   "execution_count": 6,
   "metadata": {},
   "outputs": [
    {
     "name": "stdout",
     "output_type": "stream",
     "text": [
      "dataset contains following tags:\n",
      "['Action', 'Adventure', 'Cars', 'Comedy', 'Dementia', 'Demons', 'Drama', 'Ecchi', 'Fantasy', 'Game', 'Harem', 'Hentai', 'Historical', 'Horror', 'Josei', 'Kids', 'Magic', 'Martial Arts', 'Mecha', 'Military', 'Music', 'Mystery', 'Parody', 'Police', 'Psychological', 'Romance', 'Samurai', 'School', 'Sci-Fi', 'Seinen', 'Shoujo', 'Shoujo Ai', 'Shounen', 'Shounen Ai', 'Slice of Life', 'Space', 'Sports', 'Super Power', 'Supernatural', 'Thriller', 'Vampire', 'Yaoi', 'Yuri']\n",
      "# of distinct tags:  43\n"
     ]
    }
   ],
   "source": [
    "tags = set()\n",
    "for item in genre_column:\n",
    "    res = set(eval(item))\n",
    "    tags.update(res)\n",
    "tags = list(tags)\n",
    "tags.sort()\n",
    "print(\"dataset contains following tags:\")\n",
    "print(tags)\n",
    "print(\"# of distinct tags: \", len(tags))"
   ]
  },
  {
   "cell_type": "code",
   "execution_count": 7,
   "metadata": {},
   "outputs": [
    {
     "name": "stdout",
     "output_type": "stream",
     "text": [
      "Index(['Title', 'Action', 'Adventure', 'Cars', 'Comedy', 'Dementia', 'Demons',\n",
      "       'Drama', 'Ecchi', 'Fantasy', 'Game', 'Harem', 'Hentai', 'Historical',\n",
      "       'Horror', 'Josei', 'Kids', 'Magic', 'Martial Arts', 'Mecha', 'Military',\n",
      "       'Music', 'Mystery', 'Parody', 'Police', 'Psychological', 'Romance',\n",
      "       'Samurai', 'School', 'Sci-Fi', 'Seinen', 'Shoujo', 'Shoujo Ai',\n",
      "       'Shounen', 'Shounen Ai', 'Slice of Life', 'Space', 'Sports',\n",
      "       'Super Power', 'Supernatural', 'Thriller', 'Vampire', 'Yaoi', 'Yuri'],\n",
      "      dtype='object')\n",
      "0/1 df created\n"
     ]
    }
   ],
   "source": [
    "output = pd.DataFrame(index=range(df.shape[0]),columns=range(44))\n",
    "output.columns = ['Title'] + tags\n",
    "print(output.columns)\n",
    "for index, row in df.iterrows():\n",
    "    output.iloc[index][0] = row['title']\n",
    "    row_tags = set(eval(row['genre']))\n",
    "    for t in row_tags:\n",
    "        output.iloc[index][t] = 1\n",
    "output = output.fillna(0)\n",
    "print(\"0/1 df created\")\n",
    "    "
   ]
  },
  {
   "cell_type": "code",
   "execution_count": 8,
   "metadata": {},
   "outputs": [
    {
     "name": "stdout",
     "output_type": "stream",
     "text": [
      "Normalised\n"
     ]
    }
   ],
   "source": [
    "attribute_totals = list()\n",
    "output_normalised = pd.DataFrame(index=range(output.shape[0]),columns=range(output.shape[1]))\n",
    "output_normalised.columns = output.columns\n",
    "for index, row in output.iterrows():\n",
    "    cnt = 0\n",
    "    for i in range(1,44):\n",
    "        cnt += int(row[i])\n",
    "    attribute_totals.append(cnt)\n",
    "#print(len(attribute_totals))\n",
    "#print(attribute_totals)\n",
    "for index, row in output.iterrows():\n",
    "    output_normalised.iloc[index][0] = row[0]\n",
    "    if attribute_totals[index] == 0:\n",
    "        num = 0\n",
    "    else:\n",
    "        num = 1/math.sqrt(attribute_totals[index])\n",
    "    for i in range(1,44):\n",
    "        if row[i] == 0:\n",
    "            output_normalised.iloc[index][i] = 0\n",
    "        else:\n",
    "            output_normalised.iloc[index][i] = num\n",
    "print(\"Normalised\")\n",
    "\n"
   ]
  },
  {
   "cell_type": "code",
   "execution_count": 9,
   "metadata": {},
   "outputs": [],
   "source": [
    "#output_normalised.to_csv('items.csv')\n"
   ]
  },
  {
   "cell_type": "code",
   "execution_count": 10,
   "metadata": {},
   "outputs": [],
   "source": [
    "#check = pd.read_csv(\"items.csv\")\n",
    "#print(check)"
   ]
  },
  {
   "cell_type": "code",
   "execution_count": 12,
   "metadata": {},
   "outputs": [
    {
     "name": "stdout",
     "output_type": "stream",
     "text": [
      "nr_items 19287\n",
      "['idf', 0.6607763179677045, 0.7879202994635734, 2.1614130395140676, 0.4753011587671395, 1.6630506575148583, 1.5035093058286846, 0.8085779375355088, 1.3794688001132849, 0.7456867971358444, 1.6886675848546933, 1.648776784127788, 0.874993716228969, 1.199617392184297, 1.5768437803464406, 2.2245668401275416, 0.8788948450118859, 1.2163370687990818, 1.6578988238884207, 1.2082603536878032, 1.4546760117960091, 0.9857573817806657, 1.3467449553046615, 1.4389275683513483, 1.80669818488731, 1.671422858605084, 0.9530282649897102, 1.9086877234246413, 1.004913987435148, 0.8359405873824265, 1.2931531926942037, 1.3887384629915982, 2.3457454278625347, 0.9194024650785984, 2.232186236997734, 0.9724528542690655, 1.5339855764978112, 1.3762438262699974, 1.430351658173298, 1.0515073175156429, 2.1005732496635545, 2.067780736267247, 2.393170077790673, 2.387637589190712]\n"
     ]
    }
   ],
   "source": [
    "final = pd.read_csv(\"items.csv\")\n",
    "nr_items = final.shape[0]\n",
    "print(\"nr_items\", nr_items)\n",
    "idf = pd.DataFrame(index=range(1),columns=range(final.shape[1]))\n",
    "idf.columns = ['Title'] + tags\n",
    "idf['Title'][0] = 'idf'\n",
    "for name in tags:\n",
    "    summ = 0\n",
    "    for el in final[name]:\n",
    "        if el > 0:\n",
    "            summ += 1\n",
    "    idf[name][0] = math.log(nr_items/summ,10)\n",
    "for index, row in idf.iterrows():\n",
    "    print(row.tolist())\n",
    "#idf.to_csv('idf.csv')\n",
    "#check = pd.read_csv(\"idf.csv\")\n",
    "#print(check)"
   ]
  },
  {
   "cell_type": "code",
   "execution_count": null,
   "metadata": {
    "ExecuteTime": {
     "end_time": "2020-09-28T21:18:04.652467Z",
     "start_time": "2020-09-28T21:18:04.642752Z"
    }
   },
   "outputs": [],
   "source": [
    "import matplotlib\n",
    "import matplotlib.pyplot as plt\n",
    "\n",
    "# Matplotlib umožňuje změnit styl na jiný, než defaultní\n",
    "matplotlib.style.use('ggplot')\n",
    "\n",
    "# Bez násl. řádku někdy nefunguje vykreslování grafů v Jupyter noteboocích\n",
    "%matplotlib inline "
   ]
  },
  {
   "cell_type": "markdown",
   "metadata": {},
   "source": [
    "### Graphs and tables for report"
   ]
  },
  {
   "cell_type": "code",
   "execution_count": null,
   "metadata": {},
   "outputs": [],
   "source": [
    "print(output['Action'].sum())\n",
    "print (tags)\n",
    "zero = np.zeros(shape=len(tags))\n",
    "print(zero)\n",
    "serie = pd.Series(data=zero, index=tags)\n",
    "for tag in tags:\n",
    "    serie[tag] = output[tag].sum()\n",
    "print(serie)"
   ]
  },
  {
   "cell_type": "code",
   "execution_count": null,
   "metadata": {},
   "outputs": [],
   "source": [
    "serie.plot.bar(color='indigo', figsize=(10,10))\n",
    "#plt.xticks(fontsize=5)\n",
    "#plt.yticks(fontsize=5)\n",
    "plt.savefig(\"figure.png\")"
   ]
  },
  {
   "cell_type": "code",
   "execution_count": null,
   "metadata": {},
   "outputs": [],
   "source": [
    "df = pd.read_csv(\"items.csv\")"
   ]
  },
  {
   "cell_type": "code",
   "execution_count": 11,
   "metadata": {},
   "outputs": [],
   "source": [
    "##Some additional testing"
   ]
  },
  {
   "cell_type": "code",
   "execution_count": null,
   "metadata": {},
   "outputs": [],
   "source": [
    "print(df.columns)\n",
    "for col in df.columns:\n",
    "    df[col].isnull().sum()\n",
    "print(df[df['Action'].isnull()])"
   ]
  }
 ],
 "metadata": {
  "kernelspec": {
   "display_name": "Python 3 (ipykernel)",
   "language": "python",
   "name": "python3"
  },
  "language_info": {
   "codemirror_mode": {
    "name": "ipython",
    "version": 3
   },
   "file_extension": ".py",
   "mimetype": "text/x-python",
   "name": "python",
   "nbconvert_exporter": "python",
   "pygments_lexer": "ipython3",
   "version": "3.9.12"
  }
 },
 "nbformat": 4,
 "nbformat_minor": 4
}
